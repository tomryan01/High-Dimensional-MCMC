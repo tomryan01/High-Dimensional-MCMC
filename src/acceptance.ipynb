{
 "cells": [
  {
   "cell_type": "code",
   "execution_count": null,
   "metadata": {},
   "outputs": [],
   "source": [
    "### Investigating acceptance \n",
    "\n",
    "# imports\n",
    "import numpy as np\n",
    "import matplotlib.pyplot as plt\n",
    "from functions import *\n",
    "\n",
    "n = 1000\n",
    "betas = [0.01, 0.05, 0.1, 0.5, 1]\n",
    "Ds = [4, 16]\n",
    "log_target = log_continuous_target\n",
    "log_likelihood = log_continuous_likelihood\n",
    "\n",
    "### Generate K, the covariance of the Gaussian process, and sample from N(0,K) using a stable Cholesky decomposition\n",
    "def priorSamples(l):\n",
    "\tK = GaussianKernel(coords, l)\n",
    "\tz = np.random.randn(N, )\n",
    "\tKc = np.linalg.cholesky(K + 1e-6 * np.eye(N))\n",
    "\tu = Kc @ z\n",
    "\treturn u, K\n",
    "\n",
    "grw_accept = []\n",
    "pcn_accept = []\n",
    "\n",
    "for d in Ds:\n",
    "\n",
    "\tDx = d\n",
    "\tDy = d\n",
    "\tN = Dx*Dy\n",
    "\tcoords = [(x, y) for y in np.linspace(0,1,Dy) for x in np.linspace(0,1,Dx)]    # Coordinates for the inference grid\n",
    "\tsubsample_factor = 4\n",
    "\tidx = subsample(N, subsample_factor)\n",
    "\tM = len(idx)  \n",
    "\n",
    "\t# generate samples with length scale 0.3\n",
    "\tu, K = priorSamples(0.3)\n",
    "\tKc = np.linalg.cholesky(K + 1e-6 * np.eye(N))\n",
    "\n",
    "\t# Observation model: v = G(u) + e,   e~N(0,I)\n",
    "\tG = get_G(N, idx)\n",
    "\tv = G @ u + np.random.randn(M)\n",
    "\tu0 = Kc @  np.random.randn(N, )\n",
    "\t\n",
    "\tfor b in betas:\n",
    "\t\t_, grw_acceptance = grw(log_target, u0, v, K, G, n, b)\n",
    "\t\t_, pcn_acceptance = pcn(log_likelihood, u0, v, K, G, n, b)\n",
    "\t\tgrw_accept.append(grw_acceptance)\n",
    "\t\tpcn_accept.append(pcn_acceptance)"
   ]
  },
  {
   "cell_type": "code",
   "execution_count": null,
   "metadata": {},
   "outputs": [],
   "source": [
    "print(grw_accept)\n",
    "print(pcn_accept)"
   ]
  }
 ],
 "metadata": {
  "kernelspec": {
   "display_name": "Python 3.9.0 64-bit",
   "language": "python",
   "name": "python3"
  },
  "language_info": {
   "name": "python",
   "version": "3.9.0"
  },
  "orig_nbformat": 4,
  "vscode": {
   "interpreter": {
    "hash": "34858fb4650e4f08c5273abdf3b94d08eabaf2da6ad278d4e34e857f9bde1bd0"
   }
  }
 },
 "nbformat": 4,
 "nbformat_minor": 2
}
